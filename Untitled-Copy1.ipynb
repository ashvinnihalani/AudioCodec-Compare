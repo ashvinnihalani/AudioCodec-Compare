{
 "cells": [
  {
   "cell_type": "code",
   "execution_count": 33,
   "metadata": {
    "collapsed": false
   },
   "outputs": [
    {
     "ename": "CouldntEncodeError",
     "evalue": "Encoding failed. ffmpeg/avlib returned error code: 1\n\nCommand:['ffmpeg', '-y', '-f', 'wav', '-i', 'C:\\\\Users\\\\ashvi\\\\AppData\\\\Local\\\\Temp\\\\tmpmg26tjrj', '-f', 'aac', 'C:\\\\Users\\\\ashvi\\\\AppData\\\\Local\\\\Temp\\\\tmpko7i79un']\n\nOutput from ffmpeg/avlib:\n\nb\"ffmpeg version N-83507-g8fa18e0 Copyright (c) 2000-2017 the FFmpeg developers\\r\\n  built with gcc 5.4.0 (GCC)\\r\\n  configuration: --enable-gpl --enable-version3 --enable-cuda --enable-cuvid --enable-d3d11va --enable-dxva2 --enable-libmfx --enable-nvenc --enable-avisynth --enable-bzlib --enable-fontconfig --enable-frei0r --enable-gnutls --enable-iconv --enable-libass --enable-libbluray --enable-libbs2b --enable-libcaca --enable-libfreetype --enable-libgme --enable-libgsm --enable-libilbc --enable-libmodplug --enable-libmp3lame --enable-libopencore-amrnb --enable-libopencore-amrwb --enable-libopenh264 --enable-libopenjpeg --enable-libopus --enable-librtmp --enable-libsnappy --enable-libsoxr --enable-libspeex --enable-libtheora --enable-libtwolame --enable-libvidstab --enable-libvo-amrwbenc --enable-libvorbis --enable-libvpx --enable-libwavpack --enable-libwebp --enable-libx264 --enable-libx265 --enable-libxavs --enable-libxvid --enable-libzimg --enable-lzma --enable-zlib\\r\\n  libavutil      55. 47.100 / 55. 47.100\\r\\n  libavcodec     57. 80.100 / 57. 80.100\\r\\n  libavformat    57. 66.102 / 57. 66.102\\r\\n  libavdevice    57.  2.100 / 57.  2.100\\r\\n  libavfilter     6. 73.100 /  6. 73.100\\r\\n  libswscale      4.  3.101 /  4.  3.101\\r\\n  libswresample   2.  4.100 /  2.  4.100\\r\\n  libpostproc    54.  2.100 / 54.  2.100\\r\\nGuessed Channel Layout for Input Stream #0.0 : stereo\\r\\nInput #0, wav, from 'C:\\\\Users\\\\ashvi\\\\AppData\\\\Local\\\\Temp\\\\tmpmg26tjrj':\\r\\n  Duration: 00:04:20.62, bitrate: 1411 kb/s\\r\\n    Stream #0:0: Audio: pcm_s16le ([1][0][0][0] / 0x0001), 44100 Hz, stereo, s16, 1411 kb/s\\r\\n[NULL @ 0000000001e4b020] Requested output format 'aac' is not a suitable output format\\r\\nC:\\\\Users\\\\ashvi\\\\AppData\\\\Local\\\\Temp\\\\tmpko7i79un: Invalid argument\\r\\n\"",
     "output_type": "error",
     "traceback": [
      "\u001b[0;31m---------------------------------------------------------------------------\u001b[0m",
      "\u001b[0;31mCouldntEncodeError\u001b[0m                        Traceback (most recent call last)",
      "\u001b[0;32m<ipython-input-33-85966899b8aa>\u001b[0m in \u001b[0;36m<module>\u001b[0;34m()\u001b[0m\n\u001b[1;32m     10\u001b[0m \u001b[0mxdomain\u001b[0m\u001b[1;33m=\u001b[0m\u001b[0mnumpy\u001b[0m\u001b[1;33m.\u001b[0m\u001b[0marange\u001b[0m\u001b[1;33m(\u001b[0m\u001b[1;36m0\u001b[0m\u001b[1;33m,\u001b[0m\u001b[1;36m1\u001b[0m\u001b[1;33m,\u001b[0m\u001b[1;36m1\u001b[0m\u001b[1;33m/\u001b[0m\u001b[0mlen\u001b[0m\u001b[1;33m(\u001b[0m\u001b[0mraw_data\u001b[0m\u001b[1;33m)\u001b[0m\u001b[1;33m)\u001b[0m\u001b[1;33m\u001b[0m\u001b[0m\n\u001b[1;32m     11\u001b[0m \u001b[0mplt\u001b[0m\u001b[1;33m.\u001b[0m\u001b[0mplot\u001b[0m\u001b[1;33m(\u001b[0m\u001b[0mxdomain\u001b[0m\u001b[1;33m,\u001b[0m\u001b[0mraw_data\u001b[0m\u001b[1;33m)\u001b[0m\u001b[1;33m\u001b[0m\u001b[0m\n\u001b[0;32m---> 12\u001b[0;31m \u001b[0mmp3version\u001b[0m\u001b[1;33m.\u001b[0m\u001b[0mexport\u001b[0m\u001b[1;33m(\u001b[0m\u001b[1;34m\"test.aac\"\u001b[0m\u001b[1;33m,\u001b[0m\u001b[0mformat\u001b[0m\u001b[1;33m=\u001b[0m\u001b[1;34m\"aac\"\u001b[0m\u001b[1;33m)\u001b[0m\u001b[1;33m\u001b[0m\u001b[0m\n\u001b[0m\u001b[1;32m     13\u001b[0m \u001b[0mraw_data_freq\u001b[0m\u001b[1;33m=\u001b[0m\u001b[0mnumpy\u001b[0m\u001b[1;33m.\u001b[0m\u001b[0mfft\u001b[0m\u001b[1;33m.\u001b[0m\u001b[0mfft\u001b[0m\u001b[1;33m(\u001b[0m\u001b[0mraw_data\u001b[0m\u001b[1;33m)\u001b[0m\u001b[1;33m\u001b[0m\u001b[0m\n\u001b[1;32m     14\u001b[0m \u001b[0mplt\u001b[0m\u001b[1;33m.\u001b[0m\u001b[0mplot\u001b[0m\u001b[1;33m(\u001b[0m\u001b[0mraw_data_freq\u001b[0m\u001b[1;33m)\u001b[0m\u001b[1;33m\u001b[0m\u001b[0m\n",
      "\u001b[0;32mC:\\Users\\ashvi\\Anaconda3\\lib\\site-packages\\pydub\\audio_segment.py\u001b[0m in \u001b[0;36mexport\u001b[0;34m(self, out_f, format, codec, bitrate, parameters, tags, id3v2_version, cover)\u001b[0m\n\u001b[1;32m    661\u001b[0m \u001b[1;33m\u001b[0m\u001b[0m\n\u001b[1;32m    662\u001b[0m         \u001b[1;32mif\u001b[0m \u001b[0mp\u001b[0m\u001b[1;33m.\u001b[0m\u001b[0mreturncode\u001b[0m \u001b[1;33m!=\u001b[0m \u001b[1;36m0\u001b[0m\u001b[1;33m:\u001b[0m\u001b[1;33m\u001b[0m\u001b[0m\n\u001b[0;32m--> 663\u001b[0;31m             \u001b[1;32mraise\u001b[0m \u001b[0mCouldntEncodeError\u001b[0m\u001b[1;33m(\u001b[0m\u001b[1;34m\"Encoding failed. ffmpeg/avlib returned error code: {0}\\n\\nCommand:{1}\\n\\nOutput from ffmpeg/avlib:\\n\\n{2}\"\u001b[0m\u001b[1;33m.\u001b[0m\u001b[0mformat\u001b[0m\u001b[1;33m(\u001b[0m\u001b[0mp\u001b[0m\u001b[1;33m.\u001b[0m\u001b[0mreturncode\u001b[0m\u001b[1;33m,\u001b[0m \u001b[0mconversion_command\u001b[0m\u001b[1;33m,\u001b[0m \u001b[0mp_err\u001b[0m\u001b[1;33m)\u001b[0m\u001b[1;33m)\u001b[0m\u001b[1;33m\u001b[0m\u001b[0m\n\u001b[0m\u001b[1;32m    664\u001b[0m \u001b[1;33m\u001b[0m\u001b[0m\n\u001b[1;32m    665\u001b[0m         \u001b[0moutput\u001b[0m\u001b[1;33m.\u001b[0m\u001b[0mseek\u001b[0m\u001b[1;33m(\u001b[0m\u001b[1;36m0\u001b[0m\u001b[1;33m)\u001b[0m\u001b[1;33m\u001b[0m\u001b[0m\n",
      "\u001b[0;31mCouldntEncodeError\u001b[0m: Encoding failed. ffmpeg/avlib returned error code: 1\n\nCommand:['ffmpeg', '-y', '-f', 'wav', '-i', 'C:\\\\Users\\\\ashvi\\\\AppData\\\\Local\\\\Temp\\\\tmpmg26tjrj', '-f', 'aac', 'C:\\\\Users\\\\ashvi\\\\AppData\\\\Local\\\\Temp\\\\tmpko7i79un']\n\nOutput from ffmpeg/avlib:\n\nb\"ffmpeg version N-83507-g8fa18e0 Copyright (c) 2000-2017 the FFmpeg developers\\r\\n  built with gcc 5.4.0 (GCC)\\r\\n  configuration: --enable-gpl --enable-version3 --enable-cuda --enable-cuvid --enable-d3d11va --enable-dxva2 --enable-libmfx --enable-nvenc --enable-avisynth --enable-bzlib --enable-fontconfig --enable-frei0r --enable-gnutls --enable-iconv --enable-libass --enable-libbluray --enable-libbs2b --enable-libcaca --enable-libfreetype --enable-libgme --enable-libgsm --enable-libilbc --enable-libmodplug --enable-libmp3lame --enable-libopencore-amrnb --enable-libopencore-amrwb --enable-libopenh264 --enable-libopenjpeg --enable-libopus --enable-librtmp --enable-libsnappy --enable-libsoxr --enable-libspeex --enable-libtheora --enable-libtwolame --enable-libvidstab --enable-libvo-amrwbenc --enable-libvorbis --enable-libvpx --enable-libwavpack --enable-libwebp --enable-libx264 --enable-libx265 --enable-libxavs --enable-libxvid --enable-libzimg --enable-lzma --enable-zlib\\r\\n  libavutil      55. 47.100 / 55. 47.100\\r\\n  libavcodec     57. 80.100 / 57. 80.100\\r\\n  libavformat    57. 66.102 / 57. 66.102\\r\\n  libavdevice    57.  2.100 / 57.  2.100\\r\\n  libavfilter     6. 73.100 /  6. 73.100\\r\\n  libswscale      4.  3.101 /  4.  3.101\\r\\n  libswresample   2.  4.100 /  2.  4.100\\r\\n  libpostproc    54.  2.100 / 54.  2.100\\r\\nGuessed Channel Layout for Input Stream #0.0 : stereo\\r\\nInput #0, wav, from 'C:\\\\Users\\\\ashvi\\\\AppData\\\\Local\\\\Temp\\\\tmpmg26tjrj':\\r\\n  Duration: 00:04:20.62, bitrate: 1411 kb/s\\r\\n    Stream #0:0: Audio: pcm_s16le ([1][0][0][0] / 0x0001), 44100 Hz, stereo, s16, 1411 kb/s\\r\\n[NULL @ 0000000001e4b020] Requested output format 'aac' is not a suitable output format\\r\\nC:\\\\Users\\\\ashvi\\\\AppData\\\\Local\\\\Temp\\\\tmpko7i79un: Invalid argument\\r\\n\""
     ]
    }
   ],
   "source": [
    "from pydub import AudioSegment\n",
    "import numpy\n",
    "import matplotlib.pyplot as plt\n",
    "import os\n",
    "mp3version=AudioSegment.from_mp3(\"test.mp3\")\n",
    "one_second=1*1000\n",
    "first1=mp3version[:one_second]\n",
    "raw_data=first1.get_array_of_samples()\n",
    "plt.axis([0,1,-10000,8000])\n",
    "xdomain=numpy.arange(0,1,1/len(raw_data))\n",
    "plt.plot(xdomain,raw_data)\n",
    "raw_data_freq=numpy.fft.fft(raw_data)\n",
    "xdomainf=numpy.fft.\n",
    "plt.plot(raw_data_freq)\n",
    "plt.show()\n",
    "\n",
    "\n"
   ]
  },
  {
   "cell_type": "code",
   "execution_count": null,
   "metadata": {
    "collapsed": true
   },
   "outputs": [],
   "source": []
  }
 ],
 "metadata": {
  "anaconda-cloud": {},
  "kernelspec": {
   "display_name": "Python [default]",
   "language": "python",
   "name": "python3"
  },
  "language_info": {
   "codemirror_mode": {
    "name": "ipython",
    "version": 3
   },
   "file_extension": ".py",
   "mimetype": "text/x-python",
   "name": "python",
   "nbconvert_exporter": "python",
   "pygments_lexer": "ipython3",
   "version": "3.5.2"
  }
 },
 "nbformat": 4,
 "nbformat_minor": 1
}
